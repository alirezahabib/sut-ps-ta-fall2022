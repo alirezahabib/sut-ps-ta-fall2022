{
 "cells": [
  {
   "cell_type": "markdown",
   "id": "940cca65",
   "metadata": {},
   "source": [
    "<div style=\"direction:rtl;line-height:300%;\">\n",
    "\t<font face=\"XB Zar\" size=5>\n",
    "\t\t<div align=center>\n",
    "\t\t\t<font face=\"IranNastaliq\" size=30>\n",
    "\t\t\t\t<p></p>\n",
    "\t\t\t\t<p></p>\n",
    "به نام خدا\n",
    "\t\t\t\t<p></p>\n",
    "\t\t\t</font>\n",
    "\t\t\t<font color=#FF7500>\n",
    "دانشگاه صنعتی شریف - دانشکده مهندسی کامپیوتر\n",
    "            </font>\n",
    "\t\t\t<p></p>\n",
    "\t\t\t<font color=blue>\n",
    "آمار و احتمال مهندسی\n",
    "            </font>\n",
    "\t\t\t<br />\n",
    "\t\t\t<br />\n",
    "پاییز ۱۴۰۱\n",
    "\t\t</div>\n",
    "\t\t<hr/>\n",
    "\t\t<div align=center>\n",
    "\t\t    <font color=red size=6>\n",
    "\t\t\t    <br />\n",
    "تمرین عملی سری سوم\n",
    "            \t<br/>\n",
    "\t\t\t</font>\n",
    "            نام و نام خانوادگی:\n",
    "            <br/>\n",
    "            شماره دانشجویی:\n",
    "            <br/><br/>\n",
    "            طراحان: آیناز رفیعی، علیرضا حبیب‌زاده\n",
    "\t\t\t<br/>\n",
    "موعد تحویل: ۱۴ آذر \n",
    "                <br/>\n",
    "                همفکری در تمامی تمرین‌های درس توصیه می‌شود. در عین حال از شما انتظار می‌رود تمام پیاده‌سازی را به تنهایی و بدون مشاهده کد دیگران انجام دهید.\n",
    "                <br/><br/>\n",
    "                <font color=red>\n",
    "                لطفا در فایل ارسالی تمام بلوک‌های کد اجرا شده و شامل نمودار‌ها و خروجی‌های لازم باشند.\n",
    "     </font>\n",
    "                <br/>\n",
    "        </style>\n",
    "\t</font>\n",
    "</div>"
   ]
  },
  {
   "cell_type": "markdown",
   "id": "27a9159c",
   "metadata": {},
   "source": [
    "<div dir = \"rtl\" style=\"direction:rtl;line-height:300%;\">\n",
    "\t<font face=\"XB Zar\" size=5>\n",
    "\t\t<font color=#FF7500 size=6>\n",
    "          سوال اول\n",
    "        </font>\n",
    "        <div dir = \"rtl\" style=\"direction:rtl;line-height:300%;\">\n",
    "\t<font face=\"XB Zar\" size=5>\n",
    "                <hr/> \n",
    "       تابعی از یک نمونه از یک متغیر تصادفی uniform بین 0 و 1 به نمونه ای از متغیر تصادفی نمایی بیابید. \n",
    "   </font>\n",
    "</div>\n",
    "    </font>\n",
    "</div>"
   ]
  },
  {
   "cell_type": "markdown",
   "id": "c471491c",
   "metadata": {},
   "source": [
    "<div dir = \"rtl\" style=\"direction:rtl;line-height:300%;\">\n",
    "\t<font face=\"XB Zar\" size=5>\n",
    "پاسخ:\n",
    "\n",
    "</div>"
   ]
  },
  {
   "cell_type": "markdown",
   "id": "0e08358c",
   "metadata": {},
   "source": [
    "<div dir = \"rtl\" style=\"direction:rtl;line-height:300%;\">\n",
    "\t<font face=\"XB Zar\" size=5>\n",
    "                <hr/> \n",
    "       50000 نمونه از متغیر تصادفی uniform بین 0 و 1 تولید کرده و تابع بالا را روی آن اعمال کنید. پارامتر توزیع نمایی را دلخواه در نظر بگیرید ولی آن را ذکر کنید. نتیجه را بر روی نمودار نمایش دهید. \n",
    "   </font>\n",
    "</div>\n",
    "    </font>\n",
    "</div>"
   ]
  },
  {
   "cell_type": "code",
   "execution_count": null,
   "id": "787a27b8",
   "metadata": {},
   "outputs": [],
   "source": []
  },
  {
   "cell_type": "markdown",
   "id": "3254a295",
   "metadata": {},
   "source": [
    "<div dir = \"rtl\" style=\"direction:rtl;line-height:300%;\">\n",
    "\t<font face=\"XB Zar\" size=5>\n",
    "        <hr/>\n",
    "10000 نمونه از متغیر تصادفی binomial با استفاده از متغیرهای تصادفی از توزیع نمایی که در مرحله‌ی قبل به دست آورده‌اید تولید کرده و بر روی نمودار نمایش دهید.<br/>\n",
    "        پارامترهای توزیع را دلخواه انتخاب کنید ولی آن‌ها را ذکر کنید.\n",
    "    </font>\n",
    "</div>"
   ]
  },
  {
   "cell_type": "code",
   "execution_count": null,
   "id": "f4553d42",
   "metadata": {},
   "outputs": [],
   "source": []
  },
  {
   "cell_type": "markdown",
   "id": "c76c355c",
   "metadata": {},
   "source": [
    "<br>\n",
    "<div dir = \"rtl\" style=\"direction:rtl;line-height:300%;\">\n",
    "\t<font face=\"XB Zar\" size=5>\n",
    "\t\t<font color=#FF7500 size=6>\n",
    "            سوال دوم\n",
    "        </font>\n",
    "        <hr/> \n",
    "        <div dir = \"rtl\" style=\"direction:rtl;line-height:200%;\">\n",
    "            در اتاقی یک بلندگو (فرستنده) قرار دارد که سیگنالی ارسال می‌کند\n",
    "        و همچنین سه میکروفون (گیرنده) در فواصل و جاهای مختلف قرار داده شده‌اند که این سیگنال را دریافت می‌کنند.\n",
    "            اطلاعات سیگنال ارسال شده و دریافتی بر حسب زمان در دیتاست \n",
    "data.csv\n",
    "به شما داده شده است. <br>\n",
    "داده‌ها را در یک دیتافریم لود کنید.\n",
    "</div>\n",
    "    </font>\n",
    "</div>"
   ]
  },
  {
   "cell_type": "code",
   "execution_count": 1,
   "id": "9f655c0d",
   "metadata": {},
   "outputs": [],
   "source": [
    "df <- read.csv(\"data.csv\")"
   ]
  },
  {
   "cell_type": "markdown",
   "id": "c9ae1e3c",
   "metadata": {},
   "source": [
    "<div dir = \"rtl\" style=\"direction:rtl;line-height:300%;\">\n",
    "\t<font face=\"XB Zar\" size=5>\n",
    "نمودار اطلاعات فرستنده و سه گیرنده بر حسب زمان را در یک نمودار بکشید.\n",
    "    </font>\n",
    "<div>"
   ]
  },
  {
   "cell_type": "code",
   "execution_count": 3,
   "id": "139e7886",
   "metadata": {
    "scrolled": true
   },
   "outputs": [
    {
     "data": {
      "text/html": [
       "<table class=\"dataframe\">\n",
       "<caption>A data.frame: 401 × 6</caption>\n",
       "<thead>\n",
       "\t<tr><th scope=col>X</th><th scope=col>time</th><th scope=col>send</th><th scope=col>receive1</th><th scope=col>receive2</th><th scope=col>receive3</th></tr>\n",
       "\t<tr><th scope=col>&lt;int&gt;</th><th scope=col>&lt;int&gt;</th><th scope=col>&lt;dbl&gt;</th><th scope=col>&lt;dbl&gt;</th><th scope=col>&lt;dbl&gt;</th><th scope=col>&lt;dbl&gt;</th></tr>\n",
       "</thead>\n",
       "<tbody>\n",
       "\t<tr><td> 1</td><td>  0</td><td>50.00000</td><td>47.82258</td><td>47.71930</td><td>50.03958</td></tr>\n",
       "\t<tr><td> 2</td><td>  5</td><td>50.31411</td><td>47.38460</td><td>47.82535</td><td>49.92389</td></tr>\n",
       "\t<tr><td> 3</td><td> 10</td><td>50.62791</td><td>47.53287</td><td>47.95819</td><td>49.78453</td></tr>\n",
       "\t<tr><td> 4</td><td> 15</td><td>50.94108</td><td>47.74043</td><td>47.77721</td><td>49.87762</td></tr>\n",
       "\t<tr><td> 5</td><td> 20</td><td>51.25333</td><td>47.82595</td><td>47.88115</td><td>49.80018</td></tr>\n",
       "\t<tr><td> 6</td><td> 25</td><td>51.56434</td><td>47.89652</td><td>48.00486</td><td>49.77694</td></tr>\n",
       "\t<tr><td> 7</td><td> 30</td><td>51.87381</td><td>48.15649</td><td>48.06468</td><td>49.76562</td></tr>\n",
       "\t<tr><td> 8</td><td> 35</td><td>52.18143</td><td>48.17574</td><td>47.86113</td><td>49.64840</td></tr>\n",
       "\t<tr><td> 9</td><td> 40</td><td>52.48690</td><td>48.44149</td><td>47.91261</td><td>49.64289</td></tr>\n",
       "\t<tr><td>10</td><td> 45</td><td>52.78991</td><td>48.20525</td><td>48.29226</td><td>49.67962</td></tr>\n",
       "\t<tr><td>11</td><td> 50</td><td>53.09017</td><td>48.75524</td><td>48.17333</td><td>49.57865</td></tr>\n",
       "\t<tr><td>12</td><td> 55</td><td>53.38738</td><td>48.60067</td><td>48.03881</td><td>49.49175</td></tr>\n",
       "\t<tr><td>13</td><td> 60</td><td>53.68125</td><td>49.16174</td><td>48.04455</td><td>49.69606</td></tr>\n",
       "\t<tr><td>14</td><td> 65</td><td>53.97148</td><td>48.90736</td><td>47.94754</td><td>49.50748</td></tr>\n",
       "\t<tr><td>15</td><td> 70</td><td>54.25779</td><td>49.20931</td><td>48.09071</td><td>49.37087</td></tr>\n",
       "\t<tr><td>16</td><td> 75</td><td>54.53990</td><td>49.30940</td><td>48.04483</td><td>49.38536</td></tr>\n",
       "\t<tr><td>17</td><td> 80</td><td>54.81754</td><td>49.80826</td><td>48.25677</td><td>49.43390</td></tr>\n",
       "\t<tr><td>18</td><td> 85</td><td>55.09041</td><td>50.16301</td><td>48.21848</td><td>49.32136</td></tr>\n",
       "\t<tr><td>19</td><td> 90</td><td>55.35827</td><td>49.91986</td><td>48.27952</td><td>49.30789</td></tr>\n",
       "\t<tr><td>20</td><td> 95</td><td>55.62083</td><td>50.16045</td><td>48.49484</td><td>49.18816</td></tr>\n",
       "\t<tr><td>21</td><td>100</td><td>55.87785</td><td>50.39301</td><td>48.30113</td><td>49.26182</td></tr>\n",
       "\t<tr><td>22</td><td>105</td><td>56.12907</td><td>50.75553</td><td>48.21727</td><td>49.14169</td></tr>\n",
       "\t<tr><td>23</td><td>110</td><td>56.37424</td><td>51.17016</td><td>48.32424</td><td>49.24596</td></tr>\n",
       "\t<tr><td>24</td><td>115</td><td>56.61312</td><td>51.45320</td><td>48.28359</td><td>49.11112</td></tr>\n",
       "\t<tr><td>25</td><td>120</td><td>56.84547</td><td>51.62610</td><td>48.25912</td><td>49.18559</td></tr>\n",
       "\t<tr><td>26</td><td>125</td><td>57.07107</td><td>51.09025</td><td>48.53058</td><td>49.13071</td></tr>\n",
       "\t<tr><td>27</td><td>130</td><td>57.28969</td><td>51.76688</td><td>48.47751</td><td>49.09086</td></tr>\n",
       "\t<tr><td>28</td><td>135</td><td>57.50111</td><td>51.81154</td><td>48.55652</td><td>48.95266</td></tr>\n",
       "\t<tr><td>29</td><td>140</td><td>57.70513</td><td>51.71055</td><td>48.70191</td><td>48.94365</td></tr>\n",
       "\t<tr><td>30</td><td>145</td><td>57.90155</td><td>51.88879</td><td>48.46680</td><td>49.02087</td></tr>\n",
       "\t<tr><td>⋮</td><td>⋮</td><td>⋮</td><td>⋮</td><td>⋮</td><td>⋮</td></tr>\n",
       "\t<tr><td>372</td><td>1855</td><td>42.09845</td><td>44.84513</td><td>48.73542</td><td>51.04824</td></tr>\n",
       "\t<tr><td>373</td><td>1860</td><td>42.29487</td><td>44.55949</td><td>48.71392</td><td>50.93033</td></tr>\n",
       "\t<tr><td>374</td><td>1865</td><td>42.49889</td><td>44.37526</td><td>48.67851</td><td>50.97319</td></tr>\n",
       "\t<tr><td>375</td><td>1870</td><td>42.71031</td><td>44.69768</td><td>48.71559</td><td>50.93118</td></tr>\n",
       "\t<tr><td>376</td><td>1875</td><td>42.92893</td><td>45.14301</td><td>48.50738</td><td>51.07597</td></tr>\n",
       "\t<tr><td>377</td><td>1880</td><td>43.15453</td><td>44.80635</td><td>48.47622</td><td>50.98957</td></tr>\n",
       "\t<tr><td>378</td><td>1885</td><td>43.38688</td><td>45.13546</td><td>48.51792</td><td>50.91654</td></tr>\n",
       "\t<tr><td>379</td><td>1890</td><td>43.62576</td><td>44.66821</td><td>48.44191</td><td>50.85590</td></tr>\n",
       "\t<tr><td>380</td><td>1895</td><td>43.87093</td><td>45.30524</td><td>48.27065</td><td>50.73244</td></tr>\n",
       "\t<tr><td>381</td><td>1900</td><td>44.12215</td><td>44.73788</td><td>48.23835</td><td>50.75832</td></tr>\n",
       "\t<tr><td>382</td><td>1905</td><td>44.37917</td><td>45.32222</td><td>48.27312</td><td>50.78025</td></tr>\n",
       "\t<tr><td>383</td><td>1910</td><td>44.64173</td><td>44.89222</td><td>48.11788</td><td>50.67471</td></tr>\n",
       "\t<tr><td>384</td><td>1915</td><td>44.90959</td><td>45.36924</td><td>48.22974</td><td>50.67261</td></tr>\n",
       "\t<tr><td>385</td><td>1920</td><td>45.18246</td><td>45.05131</td><td>48.04211</td><td>50.69781</td></tr>\n",
       "\t<tr><td>386</td><td>1925</td><td>45.46010</td><td>45.73028</td><td>48.10950</td><td>50.51867</td></tr>\n",
       "\t<tr><td>387</td><td>1930</td><td>45.74221</td><td>45.56154</td><td>48.30306</td><td>50.63975</td></tr>\n",
       "\t<tr><td>388</td><td>1935</td><td>46.02852</td><td>46.25366</td><td>48.00122</td><td>50.48201</td></tr>\n",
       "\t<tr><td>389</td><td>1940</td><td>46.31875</td><td>46.01866</td><td>48.14582</td><td>50.45970</td></tr>\n",
       "\t<tr><td>390</td><td>1945</td><td>46.61262</td><td>45.85207</td><td>47.77996</td><td>50.43199</td></tr>\n",
       "\t<tr><td>391</td><td>1950</td><td>46.90983</td><td>46.30370</td><td>48.06028</td><td>50.30173</td></tr>\n",
       "\t<tr><td>392</td><td>1955</td><td>47.21009</td><td>45.55050</td><td>47.95208</td><td>50.29927</td></tr>\n",
       "\t<tr><td>393</td><td>1960</td><td>47.51310</td><td>46.33680</td><td>47.81936</td><td>50.36671</td></tr>\n",
       "\t<tr><td>394</td><td>1965</td><td>47.81857</td><td>46.82598</td><td>48.17225</td><td>50.27884</td></tr>\n",
       "\t<tr><td>395</td><td>1970</td><td>48.12619</td><td>47.11638</td><td>47.87508</td><td>50.14401</td></tr>\n",
       "\t<tr><td>396</td><td>1975</td><td>48.43566</td><td>46.65165</td><td>47.63494</td><td>50.19865</td></tr>\n",
       "\t<tr><td>397</td><td>1980</td><td>48.74667</td><td>46.77738</td><td>48.00830</td><td>50.20030</td></tr>\n",
       "\t<tr><td>398</td><td>1985</td><td>49.05892</td><td>46.25627</td><td>47.95978</td><td>50.19051</td></tr>\n",
       "\t<tr><td>399</td><td>1990</td><td>49.37209</td><td>47.31246</td><td>47.83297</td><td>50.03916</td></tr>\n",
       "\t<tr><td>400</td><td>1995</td><td>49.68589</td><td>47.46225</td><td>48.06766</td><td>50.10046</td></tr>\n",
       "\t<tr><td>401</td><td>2000</td><td>50.00000</td><td>46.78344</td><td>47.95065</td><td>50.04847</td></tr>\n",
       "</tbody>\n",
       "</table>\n"
      ],
      "text/latex": [
       "A data.frame: 401 × 6\n",
       "\\begin{tabular}{llllll}\n",
       " X & time & send & receive1 & receive2 & receive3\\\\\n",
       " <int> & <int> & <dbl> & <dbl> & <dbl> & <dbl>\\\\\n",
       "\\hline\n",
       "\t  1 &   0 & 50.00000 & 47.82258 & 47.71930 & 50.03958\\\\\n",
       "\t  2 &   5 & 50.31411 & 47.38460 & 47.82535 & 49.92389\\\\\n",
       "\t  3 &  10 & 50.62791 & 47.53287 & 47.95819 & 49.78453\\\\\n",
       "\t  4 &  15 & 50.94108 & 47.74043 & 47.77721 & 49.87762\\\\\n",
       "\t  5 &  20 & 51.25333 & 47.82595 & 47.88115 & 49.80018\\\\\n",
       "\t  6 &  25 & 51.56434 & 47.89652 & 48.00486 & 49.77694\\\\\n",
       "\t  7 &  30 & 51.87381 & 48.15649 & 48.06468 & 49.76562\\\\\n",
       "\t  8 &  35 & 52.18143 & 48.17574 & 47.86113 & 49.64840\\\\\n",
       "\t  9 &  40 & 52.48690 & 48.44149 & 47.91261 & 49.64289\\\\\n",
       "\t 10 &  45 & 52.78991 & 48.20525 & 48.29226 & 49.67962\\\\\n",
       "\t 11 &  50 & 53.09017 & 48.75524 & 48.17333 & 49.57865\\\\\n",
       "\t 12 &  55 & 53.38738 & 48.60067 & 48.03881 & 49.49175\\\\\n",
       "\t 13 &  60 & 53.68125 & 49.16174 & 48.04455 & 49.69606\\\\\n",
       "\t 14 &  65 & 53.97148 & 48.90736 & 47.94754 & 49.50748\\\\\n",
       "\t 15 &  70 & 54.25779 & 49.20931 & 48.09071 & 49.37087\\\\\n",
       "\t 16 &  75 & 54.53990 & 49.30940 & 48.04483 & 49.38536\\\\\n",
       "\t 17 &  80 & 54.81754 & 49.80826 & 48.25677 & 49.43390\\\\\n",
       "\t 18 &  85 & 55.09041 & 50.16301 & 48.21848 & 49.32136\\\\\n",
       "\t 19 &  90 & 55.35827 & 49.91986 & 48.27952 & 49.30789\\\\\n",
       "\t 20 &  95 & 55.62083 & 50.16045 & 48.49484 & 49.18816\\\\\n",
       "\t 21 & 100 & 55.87785 & 50.39301 & 48.30113 & 49.26182\\\\\n",
       "\t 22 & 105 & 56.12907 & 50.75553 & 48.21727 & 49.14169\\\\\n",
       "\t 23 & 110 & 56.37424 & 51.17016 & 48.32424 & 49.24596\\\\\n",
       "\t 24 & 115 & 56.61312 & 51.45320 & 48.28359 & 49.11112\\\\\n",
       "\t 25 & 120 & 56.84547 & 51.62610 & 48.25912 & 49.18559\\\\\n",
       "\t 26 & 125 & 57.07107 & 51.09025 & 48.53058 & 49.13071\\\\\n",
       "\t 27 & 130 & 57.28969 & 51.76688 & 48.47751 & 49.09086\\\\\n",
       "\t 28 & 135 & 57.50111 & 51.81154 & 48.55652 & 48.95266\\\\\n",
       "\t 29 & 140 & 57.70513 & 51.71055 & 48.70191 & 48.94365\\\\\n",
       "\t 30 & 145 & 57.90155 & 51.88879 & 48.46680 & 49.02087\\\\\n",
       "\t ⋮ & ⋮ & ⋮ & ⋮ & ⋮ & ⋮\\\\\n",
       "\t 372 & 1855 & 42.09845 & 44.84513 & 48.73542 & 51.04824\\\\\n",
       "\t 373 & 1860 & 42.29487 & 44.55949 & 48.71392 & 50.93033\\\\\n",
       "\t 374 & 1865 & 42.49889 & 44.37526 & 48.67851 & 50.97319\\\\\n",
       "\t 375 & 1870 & 42.71031 & 44.69768 & 48.71559 & 50.93118\\\\\n",
       "\t 376 & 1875 & 42.92893 & 45.14301 & 48.50738 & 51.07597\\\\\n",
       "\t 377 & 1880 & 43.15453 & 44.80635 & 48.47622 & 50.98957\\\\\n",
       "\t 378 & 1885 & 43.38688 & 45.13546 & 48.51792 & 50.91654\\\\\n",
       "\t 379 & 1890 & 43.62576 & 44.66821 & 48.44191 & 50.85590\\\\\n",
       "\t 380 & 1895 & 43.87093 & 45.30524 & 48.27065 & 50.73244\\\\\n",
       "\t 381 & 1900 & 44.12215 & 44.73788 & 48.23835 & 50.75832\\\\\n",
       "\t 382 & 1905 & 44.37917 & 45.32222 & 48.27312 & 50.78025\\\\\n",
       "\t 383 & 1910 & 44.64173 & 44.89222 & 48.11788 & 50.67471\\\\\n",
       "\t 384 & 1915 & 44.90959 & 45.36924 & 48.22974 & 50.67261\\\\\n",
       "\t 385 & 1920 & 45.18246 & 45.05131 & 48.04211 & 50.69781\\\\\n",
       "\t 386 & 1925 & 45.46010 & 45.73028 & 48.10950 & 50.51867\\\\\n",
       "\t 387 & 1930 & 45.74221 & 45.56154 & 48.30306 & 50.63975\\\\\n",
       "\t 388 & 1935 & 46.02852 & 46.25366 & 48.00122 & 50.48201\\\\\n",
       "\t 389 & 1940 & 46.31875 & 46.01866 & 48.14582 & 50.45970\\\\\n",
       "\t 390 & 1945 & 46.61262 & 45.85207 & 47.77996 & 50.43199\\\\\n",
       "\t 391 & 1950 & 46.90983 & 46.30370 & 48.06028 & 50.30173\\\\\n",
       "\t 392 & 1955 & 47.21009 & 45.55050 & 47.95208 & 50.29927\\\\\n",
       "\t 393 & 1960 & 47.51310 & 46.33680 & 47.81936 & 50.36671\\\\\n",
       "\t 394 & 1965 & 47.81857 & 46.82598 & 48.17225 & 50.27884\\\\\n",
       "\t 395 & 1970 & 48.12619 & 47.11638 & 47.87508 & 50.14401\\\\\n",
       "\t 396 & 1975 & 48.43566 & 46.65165 & 47.63494 & 50.19865\\\\\n",
       "\t 397 & 1980 & 48.74667 & 46.77738 & 48.00830 & 50.20030\\\\\n",
       "\t 398 & 1985 & 49.05892 & 46.25627 & 47.95978 & 50.19051\\\\\n",
       "\t 399 & 1990 & 49.37209 & 47.31246 & 47.83297 & 50.03916\\\\\n",
       "\t 400 & 1995 & 49.68589 & 47.46225 & 48.06766 & 50.10046\\\\\n",
       "\t 401 & 2000 & 50.00000 & 46.78344 & 47.95065 & 50.04847\\\\\n",
       "\\end{tabular}\n"
      ],
      "text/markdown": [
       "\n",
       "A data.frame: 401 × 6\n",
       "\n",
       "| X &lt;int&gt; | time &lt;int&gt; | send &lt;dbl&gt; | receive1 &lt;dbl&gt; | receive2 &lt;dbl&gt; | receive3 &lt;dbl&gt; |\n",
       "|---|---|---|---|---|---|\n",
       "|  1 |   0 | 50.00000 | 47.82258 | 47.71930 | 50.03958 |\n",
       "|  2 |   5 | 50.31411 | 47.38460 | 47.82535 | 49.92389 |\n",
       "|  3 |  10 | 50.62791 | 47.53287 | 47.95819 | 49.78453 |\n",
       "|  4 |  15 | 50.94108 | 47.74043 | 47.77721 | 49.87762 |\n",
       "|  5 |  20 | 51.25333 | 47.82595 | 47.88115 | 49.80018 |\n",
       "|  6 |  25 | 51.56434 | 47.89652 | 48.00486 | 49.77694 |\n",
       "|  7 |  30 | 51.87381 | 48.15649 | 48.06468 | 49.76562 |\n",
       "|  8 |  35 | 52.18143 | 48.17574 | 47.86113 | 49.64840 |\n",
       "|  9 |  40 | 52.48690 | 48.44149 | 47.91261 | 49.64289 |\n",
       "| 10 |  45 | 52.78991 | 48.20525 | 48.29226 | 49.67962 |\n",
       "| 11 |  50 | 53.09017 | 48.75524 | 48.17333 | 49.57865 |\n",
       "| 12 |  55 | 53.38738 | 48.60067 | 48.03881 | 49.49175 |\n",
       "| 13 |  60 | 53.68125 | 49.16174 | 48.04455 | 49.69606 |\n",
       "| 14 |  65 | 53.97148 | 48.90736 | 47.94754 | 49.50748 |\n",
       "| 15 |  70 | 54.25779 | 49.20931 | 48.09071 | 49.37087 |\n",
       "| 16 |  75 | 54.53990 | 49.30940 | 48.04483 | 49.38536 |\n",
       "| 17 |  80 | 54.81754 | 49.80826 | 48.25677 | 49.43390 |\n",
       "| 18 |  85 | 55.09041 | 50.16301 | 48.21848 | 49.32136 |\n",
       "| 19 |  90 | 55.35827 | 49.91986 | 48.27952 | 49.30789 |\n",
       "| 20 |  95 | 55.62083 | 50.16045 | 48.49484 | 49.18816 |\n",
       "| 21 | 100 | 55.87785 | 50.39301 | 48.30113 | 49.26182 |\n",
       "| 22 | 105 | 56.12907 | 50.75553 | 48.21727 | 49.14169 |\n",
       "| 23 | 110 | 56.37424 | 51.17016 | 48.32424 | 49.24596 |\n",
       "| 24 | 115 | 56.61312 | 51.45320 | 48.28359 | 49.11112 |\n",
       "| 25 | 120 | 56.84547 | 51.62610 | 48.25912 | 49.18559 |\n",
       "| 26 | 125 | 57.07107 | 51.09025 | 48.53058 | 49.13071 |\n",
       "| 27 | 130 | 57.28969 | 51.76688 | 48.47751 | 49.09086 |\n",
       "| 28 | 135 | 57.50111 | 51.81154 | 48.55652 | 48.95266 |\n",
       "| 29 | 140 | 57.70513 | 51.71055 | 48.70191 | 48.94365 |\n",
       "| 30 | 145 | 57.90155 | 51.88879 | 48.46680 | 49.02087 |\n",
       "| ⋮ | ⋮ | ⋮ | ⋮ | ⋮ | ⋮ |\n",
       "| 372 | 1855 | 42.09845 | 44.84513 | 48.73542 | 51.04824 |\n",
       "| 373 | 1860 | 42.29487 | 44.55949 | 48.71392 | 50.93033 |\n",
       "| 374 | 1865 | 42.49889 | 44.37526 | 48.67851 | 50.97319 |\n",
       "| 375 | 1870 | 42.71031 | 44.69768 | 48.71559 | 50.93118 |\n",
       "| 376 | 1875 | 42.92893 | 45.14301 | 48.50738 | 51.07597 |\n",
       "| 377 | 1880 | 43.15453 | 44.80635 | 48.47622 | 50.98957 |\n",
       "| 378 | 1885 | 43.38688 | 45.13546 | 48.51792 | 50.91654 |\n",
       "| 379 | 1890 | 43.62576 | 44.66821 | 48.44191 | 50.85590 |\n",
       "| 380 | 1895 | 43.87093 | 45.30524 | 48.27065 | 50.73244 |\n",
       "| 381 | 1900 | 44.12215 | 44.73788 | 48.23835 | 50.75832 |\n",
       "| 382 | 1905 | 44.37917 | 45.32222 | 48.27312 | 50.78025 |\n",
       "| 383 | 1910 | 44.64173 | 44.89222 | 48.11788 | 50.67471 |\n",
       "| 384 | 1915 | 44.90959 | 45.36924 | 48.22974 | 50.67261 |\n",
       "| 385 | 1920 | 45.18246 | 45.05131 | 48.04211 | 50.69781 |\n",
       "| 386 | 1925 | 45.46010 | 45.73028 | 48.10950 | 50.51867 |\n",
       "| 387 | 1930 | 45.74221 | 45.56154 | 48.30306 | 50.63975 |\n",
       "| 388 | 1935 | 46.02852 | 46.25366 | 48.00122 | 50.48201 |\n",
       "| 389 | 1940 | 46.31875 | 46.01866 | 48.14582 | 50.45970 |\n",
       "| 390 | 1945 | 46.61262 | 45.85207 | 47.77996 | 50.43199 |\n",
       "| 391 | 1950 | 46.90983 | 46.30370 | 48.06028 | 50.30173 |\n",
       "| 392 | 1955 | 47.21009 | 45.55050 | 47.95208 | 50.29927 |\n",
       "| 393 | 1960 | 47.51310 | 46.33680 | 47.81936 | 50.36671 |\n",
       "| 394 | 1965 | 47.81857 | 46.82598 | 48.17225 | 50.27884 |\n",
       "| 395 | 1970 | 48.12619 | 47.11638 | 47.87508 | 50.14401 |\n",
       "| 396 | 1975 | 48.43566 | 46.65165 | 47.63494 | 50.19865 |\n",
       "| 397 | 1980 | 48.74667 | 46.77738 | 48.00830 | 50.20030 |\n",
       "| 398 | 1985 | 49.05892 | 46.25627 | 47.95978 | 50.19051 |\n",
       "| 399 | 1990 | 49.37209 | 47.31246 | 47.83297 | 50.03916 |\n",
       "| 400 | 1995 | 49.68589 | 47.46225 | 48.06766 | 50.10046 |\n",
       "| 401 | 2000 | 50.00000 | 46.78344 | 47.95065 | 50.04847 |\n",
       "\n"
      ],
      "text/plain": [
       "    X   time send     receive1 receive2 receive3\n",
       "1    1    0  50.00000 47.82258 47.71930 50.03958\n",
       "2    2    5  50.31411 47.38460 47.82535 49.92389\n",
       "3    3   10  50.62791 47.53287 47.95819 49.78453\n",
       "4    4   15  50.94108 47.74043 47.77721 49.87762\n",
       "5    5   20  51.25333 47.82595 47.88115 49.80018\n",
       "6    6   25  51.56434 47.89652 48.00486 49.77694\n",
       "7    7   30  51.87381 48.15649 48.06468 49.76562\n",
       "8    8   35  52.18143 48.17574 47.86113 49.64840\n",
       "9    9   40  52.48690 48.44149 47.91261 49.64289\n",
       "10  10   45  52.78991 48.20525 48.29226 49.67962\n",
       "11  11   50  53.09017 48.75524 48.17333 49.57865\n",
       "12  12   55  53.38738 48.60067 48.03881 49.49175\n",
       "13  13   60  53.68125 49.16174 48.04455 49.69606\n",
       "14  14   65  53.97148 48.90736 47.94754 49.50748\n",
       "15  15   70  54.25779 49.20931 48.09071 49.37087\n",
       "16  16   75  54.53990 49.30940 48.04483 49.38536\n",
       "17  17   80  54.81754 49.80826 48.25677 49.43390\n",
       "18  18   85  55.09041 50.16301 48.21848 49.32136\n",
       "19  19   90  55.35827 49.91986 48.27952 49.30789\n",
       "20  20   95  55.62083 50.16045 48.49484 49.18816\n",
       "21  21  100  55.87785 50.39301 48.30113 49.26182\n",
       "22  22  105  56.12907 50.75553 48.21727 49.14169\n",
       "23  23  110  56.37424 51.17016 48.32424 49.24596\n",
       "24  24  115  56.61312 51.45320 48.28359 49.11112\n",
       "25  25  120  56.84547 51.62610 48.25912 49.18559\n",
       "26  26  125  57.07107 51.09025 48.53058 49.13071\n",
       "27  27  130  57.28969 51.76688 48.47751 49.09086\n",
       "28  28  135  57.50111 51.81154 48.55652 48.95266\n",
       "29  29  140  57.70513 51.71055 48.70191 48.94365\n",
       "30  30  145  57.90155 51.88879 48.46680 49.02087\n",
       "⋮   ⋮   ⋮    ⋮        ⋮        ⋮        ⋮       \n",
       "372 372 1855 42.09845 44.84513 48.73542 51.04824\n",
       "373 373 1860 42.29487 44.55949 48.71392 50.93033\n",
       "374 374 1865 42.49889 44.37526 48.67851 50.97319\n",
       "375 375 1870 42.71031 44.69768 48.71559 50.93118\n",
       "376 376 1875 42.92893 45.14301 48.50738 51.07597\n",
       "377 377 1880 43.15453 44.80635 48.47622 50.98957\n",
       "378 378 1885 43.38688 45.13546 48.51792 50.91654\n",
       "379 379 1890 43.62576 44.66821 48.44191 50.85590\n",
       "380 380 1895 43.87093 45.30524 48.27065 50.73244\n",
       "381 381 1900 44.12215 44.73788 48.23835 50.75832\n",
       "382 382 1905 44.37917 45.32222 48.27312 50.78025\n",
       "383 383 1910 44.64173 44.89222 48.11788 50.67471\n",
       "384 384 1915 44.90959 45.36924 48.22974 50.67261\n",
       "385 385 1920 45.18246 45.05131 48.04211 50.69781\n",
       "386 386 1925 45.46010 45.73028 48.10950 50.51867\n",
       "387 387 1930 45.74221 45.56154 48.30306 50.63975\n",
       "388 388 1935 46.02852 46.25366 48.00122 50.48201\n",
       "389 389 1940 46.31875 46.01866 48.14582 50.45970\n",
       "390 390 1945 46.61262 45.85207 47.77996 50.43199\n",
       "391 391 1950 46.90983 46.30370 48.06028 50.30173\n",
       "392 392 1955 47.21009 45.55050 47.95208 50.29927\n",
       "393 393 1960 47.51310 46.33680 47.81936 50.36671\n",
       "394 394 1965 47.81857 46.82598 48.17225 50.27884\n",
       "395 395 1970 48.12619 47.11638 47.87508 50.14401\n",
       "396 396 1975 48.43566 46.65165 47.63494 50.19865\n",
       "397 397 1980 48.74667 46.77738 48.00830 50.20030\n",
       "398 398 1985 49.05892 46.25627 47.95978 50.19051\n",
       "399 399 1990 49.37209 47.31246 47.83297 50.03916\n",
       "400 400 1995 49.68589 47.46225 48.06766 50.10046\n",
       "401 401 2000 50.00000 46.78344 47.95065 50.04847"
      ]
     },
     "metadata": {},
     "output_type": "display_data"
    },
    {
     "name": "stderr",
     "output_type": "stream",
     "text": [
      "Don't know how to automatically pick scale for object of type function. Defaulting to continuous.\n",
      "\n",
      "ERROR while rich displaying an object: \u001b[1m\u001b[33mError\u001b[39m in \u001b[1m\u001b[1m`f()`:\u001b[22m\n",
      "\u001b[33m!\u001b[39m Aesthetics must be valid data columns. Problematic aesthetic(s): x = time. \n",
      "Did you mistype the name of a data column or forget to add after_stat()?\n",
      "\n",
      "Traceback:\n",
      "1. tryCatch(withCallingHandlers({\n",
      " .     if (!mime %in% names(repr::mime2repr)) \n",
      " .         stop(\"No repr_* for mimetype \", mime, \" in repr::mime2repr\")\n",
      " .     rpr <- repr::mime2repr[[mime]](obj)\n",
      " .     if (is.null(rpr)) \n",
      " .         return(NULL)\n",
      " .     prepare_content(is.raw(rpr), rpr)\n",
      " . }, error = error_handler), error = outer_handler)\n",
      "2. tryCatchList(expr, classes, parentenv, handlers)\n",
      "3. tryCatchOne(expr, names, parentenv, handlers[[1L]])\n",
      "4. doTryCatch(return(expr), name, parentenv, handler)\n",
      "5. withCallingHandlers({\n",
      " .     if (!mime %in% names(repr::mime2repr)) \n",
      " .         stop(\"No repr_* for mimetype \", mime, \" in repr::mime2repr\")\n",
      " .     rpr <- repr::mime2repr[[mime]](obj)\n",
      " .     if (is.null(rpr)) \n",
      " .         return(NULL)\n",
      " .     prepare_content(is.raw(rpr), rpr)\n",
      " . }, error = error_handler)\n",
      "6. repr::mime2repr[[mime]](obj)\n",
      "7. repr_text.default(obj)\n",
      "8. paste(capture.output(print(obj)), collapse = \"\\n\")\n",
      "9. capture.output(print(obj))\n",
      "10. withVisible(...elt(i))\n",
      "11. print(obj)\n",
      "12. print.ggplot(obj)\n",
      "13. ggplot_build(x)\n",
      "14. ggplot_build.ggplot(x)\n",
      "15. by_layer(function(l, d) l$compute_aesthetics(d, plot))\n",
      "16. f(l = layers[[i]], d = data[[i]])\n",
      "17. l$compute_aesthetics(d, plot)\n",
      "18. f(..., self = self)\n",
      "19. abort(msg)\n",
      "20. signal_abort(cnd, .file)\n"
     ]
    },
    {
     "ename": "ERROR",
     "evalue": "Error in file(con, \"rb\"): cannot open the connection\n",
     "output_type": "error",
     "traceback": [
      "Error in file(con, \"rb\"): cannot open the connection\nTraceback:\n"
     ]
    },
    {
     "data": {
      "text/plain": [
       "plot without title"
      ]
     },
     "metadata": {
      "image/png": {
       "height": 420,
       "width": 420
      }
     },
     "output_type": "display_data"
    }
   ],
   "source": [
    "library(ggplot2)\n",
    "library(tidyr)\n",
    "df\n",
    "ggplot(gather(df, \"source\", \"value\", 2:5))+\n",
    "    geom_point(aes(time, value, colour=source))"
   ]
  },
  {
   "cell_type": "markdown",
   "id": "1f6d01c7",
   "metadata": {},
   "source": [
    "<div dir = \"rtl\" style=\"direction:rtl;line-height:250%;\">\n",
    "\t<font face=\"XB Zar\" size=5>\n",
    "                <hr/>\n",
    "داده‌های اندازه‌گیری شده به دلیل تفاوت و فاصله‌ی گیرنده‌ها و عوامل محیطی ممکن است دچار تغییراتی شده باشند.\n",
    "به همین منظور لازم است تا داده‌ها را نرمالایز کنیم.\n",
    "یعنی تبدیل خطی‌ای روی آن‌ها اعمال کنیم که توزیع نهایی دارای امید ریاضی صفر و انحراف معیار واحد باشد.\n",
    "$$x' = \\frac{x - \\bar{x}}{\\sigma_x}$$\n",
    "داده‌های نرمالایز شده‌ی فرستنده و سه گیرنده را به دیتافریم اضافه کنید.\n",
    "از این به بعد تنها با داده‌های نرمالایز شده کار خواهیم کرد.\n",
    "    </font>\n",
    "</div>"
   ]
  },
  {
   "cell_type": "code",
   "execution_count": 4,
   "id": "ad205a0f",
   "metadata": {},
   "outputs": [],
   "source": [
    "df$send.n <- scale(df$send)\n",
    "df$receive1.n <- scale(df$receive1)\n",
    "df$receive2.n <- scale(df$receive2)\n",
    "df$receive3.n <- scale(df$receive3)"
   ]
  },
  {
   "cell_type": "markdown",
   "id": "43c8427e",
   "metadata": {},
   "source": [
    "<div dir = \"rtl\" style=\"direction:rtl;line-height:250%;\">\n",
    "\t<font face=\"XB Zar\" size=5>\n",
    "برای اطمینان میانگین و واریانس داده‌های نرمالایز شده را حساب کنید.\n",
    "<br>\n",
    "آیا نتیجه با آنچه انتظار دارید یکسان است؟\n",
    "    </font>\n",
    "</div>"
   ]
  },
  {
   "cell_type": "code",
   "execution_count": 5,
   "id": "bd3dae06",
   "metadata": {},
   "outputs": [
    {
     "data": {
      "text/html": [
       "-3.99820165230498e-15"
      ],
      "text/latex": [
       "-3.99820165230498e-15"
      ],
      "text/markdown": [
       "-3.99820165230498e-15"
      ],
      "text/plain": [
       "[1] -3.998202e-15"
      ]
     },
     "metadata": {},
     "output_type": "display_data"
    },
    {
     "data": {
      "text/html": [
       "-8.88732146894452e-16"
      ],
      "text/latex": [
       "-8.88732146894452e-16"
      ],
      "text/markdown": [
       "-8.88732146894452e-16"
      ],
      "text/plain": [
       "[1] -8.887321e-16"
      ]
     },
     "metadata": {},
     "output_type": "display_data"
    },
    {
     "data": {
      "text/html": [
       "-2.30948538209806e-14"
      ],
      "text/latex": [
       "-2.30948538209806e-14"
      ],
      "text/markdown": [
       "-2.30948538209806e-14"
      ],
      "text/plain": [
       "[1] -2.309485e-14"
      ]
     },
     "metadata": {},
     "output_type": "display_data"
    },
    {
     "data": {
      "text/html": [
       "1.04470844554889e-14"
      ],
      "text/latex": [
       "1.04470844554889e-14"
      ],
      "text/markdown": [
       "1.04470844554889e-14"
      ],
      "text/plain": [
       "[1] 1.044708e-14"
      ]
     },
     "metadata": {},
     "output_type": "display_data"
    },
    {
     "data": {
      "text/html": [
       "0.999999999999999"
      ],
      "text/latex": [
       "0.999999999999999"
      ],
      "text/markdown": [
       "0.999999999999999"
      ],
      "text/plain": [
       "[1] 1"
      ]
     },
     "metadata": {},
     "output_type": "display_data"
    },
    {
     "data": {
      "text/html": [
       "1"
      ],
      "text/latex": [
       "1"
      ],
      "text/markdown": [
       "1"
      ],
      "text/plain": [
       "[1] 1"
      ]
     },
     "metadata": {},
     "output_type": "display_data"
    },
    {
     "data": {
      "text/html": [
       "1"
      ],
      "text/latex": [
       "1"
      ],
      "text/markdown": [
       "1"
      ],
      "text/plain": [
       "[1] 1"
      ]
     },
     "metadata": {},
     "output_type": "display_data"
    },
    {
     "data": {
      "text/html": [
       "1"
      ],
      "text/latex": [
       "1"
      ],
      "text/markdown": [
       "1"
      ],
      "text/plain": [
       "[1] 1"
      ]
     },
     "metadata": {},
     "output_type": "display_data"
    }
   ],
   "source": [
    "mean(df$send.n)\n",
    "mean(df$receive1.n)\n",
    "mean(df$receive2.n)\n",
    "mean(df$receive3.n)\n",
    "sd(df$send.n)\n",
    "sd(df$receive1.n)\n",
    "sd(df$receive2.n)\n",
    "sd(df$receive3.n)"
   ]
  },
  {
   "cell_type": "raw",
   "id": "cc0d514c",
   "metadata": {},
   "source": [
    "توضیح"
   ]
  },
  {
   "cell_type": "markdown",
   "id": "50b3ee5d",
   "metadata": {},
   "source": [
    "<div dir = \"rtl\" style=\"direction:rtl;line-height:250%;\">\n",
    "\t<font face=\"XB Zar\" size=5>\n",
    "داده‌های نرمالایز شده‌ی گیرنده‌ها و فرستنده بر حسب زمان را در یک نمودار نشان دهید.\n",
    "</font>\n",
    "</div>"
   ]
  },
  {
   "cell_type": "code",
   "execution_count": null,
   "id": "594fd90c",
   "metadata": {},
   "outputs": [],
   "source": []
  },
  {
   "cell_type": "markdown",
   "id": "61e9e4a9",
   "metadata": {},
   "source": [
    "<div dir = \"rtl\" style=\"direction:rtl;line-height:250%;\">\n",
    "\t<font face=\"XB Zar\" size=5>\n",
    "توزیع توام داده‌های نرمالایز شده‌ی سه گیرنده با فرستنده را در نمودار یا نمودارهای مناسبی نمایش دهید.\n",
    "<br>\n",
    "<font size=3>\n",
    "(راهنمایی: جواب‌ها همگی نوعی بیضی هستند)\n",
    "</font>\n",
    "<br>\n",
    "توزیع حاشیه‌ای هر کدام از متغیرهای نرمالایز شده‌ی\n",
    "send, \n",
    "receive1, \n",
    "receive2, \n",
    "receive3\n",
    "را به صورت جداگانه یا روی همان توزیع توام نمایش دهید.\n",
    "<br>\n",
    "برای این کار می‌توانید از \n",
    "ggMarginal\n",
    "از کتابخانه‌ی\n",
    "ggExtra\n",
    "استفاده کنید. (یا نکنید)\n",
    "    </font>\n",
    "</div>"
   ]
  },
  {
   "cell_type": "code",
   "execution_count": null,
   "id": "1f0d92ff",
   "metadata": {},
   "outputs": [],
   "source": []
  },
  {
   "cell_type": "markdown",
   "id": "b470140b",
   "metadata": {},
   "source": [
    "<div dir = \"rtl\" style=\"direction:rtl;line-height:250%;\">\n",
    "\t<font face=\"XB Zar\" size=5>\n",
    "        کوواریانس اطلاعات نرمالایز شده‌ی گیرنده‌ها با فرستنده را حساب کنید. (سه مقدار) \n",
    "<br>\n",
    "        مقادیر به دست‌آمده را با توزیع‌های توام که در قسمت قبل کشیدید مقایسه کنید.\n",
    "        <br>\n",
    "        (به کوواریانس بین توزیع‌های نرمالایز شده کوریلیشن نیز می‌گویند که مقداری بین منفی یک و یک است.)\n",
    "</font>\n",
    "</div>"
   ]
  },
  {
   "cell_type": "code",
   "execution_count": null,
   "id": "8f1b2fc8",
   "metadata": {
    "scrolled": true
   },
   "outputs": [],
   "source": []
  },
  {
   "cell_type": "markdown",
   "id": "be349f2f",
   "metadata": {},
   "source": [
    "<div dir = \"rtl\" style=\"direction:rtl;line-height:250%;\">\n",
    "\t<font face=\"XB Zar\" size=5>\n",
    "        <font size=6>\n",
    "    امتیازی\n",
    "</font>\n",
    "<br>\n",
    "همان‌طور که احتمالا حدس زدید گیرنده‌ها علاوه بر آن که اطلاعات را با مقداری نویز و تضعیف شده دریافت می‌کنند آن را با تاخیر هم می‌بینند.\n",
    "یعنی نمودار داده‌های گیرنده‌ها در مقایسه با داده‌های فرستنده شیفت خورده است.\n",
    "به دلیل نویزی که در اطلاعات وجود دارد هیچوقت نقاط با شیفت دادن دقیقا روی هم قرار نمی‌گیرند.\n",
    "یک روش خوب برای پیدا کردن تاخیر بین این دو موج شیفت دادن یک موج و محاسبه‌ی کوواریانس بین این دو است تا جایی که این کوواریانس بیشینه شود.\n",
    "<br>\n",
    "(اگر نویزی وجود نداشت این مقدار برای داده‌های نرمالایز شده‌ی یک می‌بود چرا که کوواریانس یک متغیر نرمالایز شده با خودش یک است )\n",
    "<br><br>\n",
    "داده‌های گیرنده‌ی اول را به ازای جابه‌جایی‌های مضرب 5 از صفر تا 1000 میکروثانیه (نصف کل بازه‌ی زمانی) به سمت چپ شیفت دهید. سپس داده‌های 1000 میکروثانیه ابتدایی از فرستنده و گیرنده باقی می‌ماند را جدا کنید و کوواریانس این دو را محاسبه کنید.\n",
    "حال نمودار کوواریانس بر حسب شیفت را رسم کنید.\n",
    "<br><br>\n",
    "(راهنمایی:\n",
    "همیشه باید 200\n",
    "داده از میان ستون receive1 نرمالایز شده بردارید\n",
    "و کوواریانس آن را با 200 داده‌ی ابتدایی\n",
    "send نرمالایز شده حساب کنید.)\n",
    "</font>\n",
    "</div>\n",
    "\n",
    "<img src=\"pic1.png\" width=500/>"
   ]
  },
  {
   "cell_type": "code",
   "execution_count": 8,
   "id": "f5c13c7b",
   "metadata": {},
   "outputs": [
    {
     "name": "stdout",
     "output_type": "stream",
     "text": [
      "shift = 50 µs\n",
      "cov = 0.981455"
     ]
    },
    {
     "data": {
      "image/png": "[encoded data removed]",
      "text/plain": [
       "plot without title"
      ]
     },
     "metadata": {
      "image/png": {
       "height": 420,
       "width": 420
      }
     },
     "output_type": "display_data"
    }
   ],
   "source": [
    "library(ggplot2)\n",
    "\n",
    "ggplot(rbind(\n",
    "    data.frame(time=df$time[1:200], value=df$send.n[1:200], source='send'),\n",
    "    data.frame(time=df$time[1:200], value=df$receive1.n[11:210], source='receive1')))+\n",
    "    geom_point(aes(time, value, colour=source))\n",
    "\n",
    "cat('shift = 50 µs\\n')\n",
    "cat('cov =', cov(df$send.n[1:200], df$receive1.n[11:210]))"
   ]
  },
  {
   "cell_type": "markdown",
   "id": "b18c7696",
   "metadata": {},
   "source": [
    "<div dir = \"rtl\" style=\"direction:rtl;line-height:250%;\">\n",
    "\t<font face=\"XB Zar\" size=5>\n",
    "شیفتی که در آن بیشترین کوواریانس بین داد‌های گیرنده‌ی شیفت خورده و فرستنده ایجاد می‌شود و کوواریانس بیشینه را پیدا کنید.\n",
    "    </font>\n",
    "</div>"
   ]
  },
  {
   "cell_type": "code",
   "execution_count": null,
   "id": "279cb967",
   "metadata": {},
   "outputs": [],
   "source": []
  },
  {
   "cell_type": "markdown",
   "id": "d3aed86a",
   "metadata": {},
   "source": [
    "<div dir = \"rtl\" style=\"direction:rtl;line-height:250%;\">\n",
    "\t<font face=\"XB Zar\" size=5>\n",
    "توزیع توام 1000 میکروثانیه اول گیرنده‌ی شیفت خورده با فرستنده را رسم کنید.\n",
    "</font>\n",
    "</div>"
   ]
  },
  {
   "cell_type": "code",
   "execution_count": null,
   "id": "dbab1888",
   "metadata": {},
   "outputs": [],
   "source": []
  }
 ],
 "metadata": {
  "kernelspec": {
   "display_name": "R 4.2",
   "language": "R",
   "name": "ir42"
  },
  "language_info": {
   "codemirror_mode": "r",
   "file_extension": ".r",
   "mimetype": "text/x-r-source",
   "name": "R",
   "pygments_lexer": "r",
   "version": "4.2.2"
  }
 },
 "nbformat": 4,
 "nbformat_minor": 5
}
